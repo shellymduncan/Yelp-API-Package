{
 "cells": [
  {
   "cell_type": "markdown",
   "id": "c81655a8",
   "metadata": {},
   "source": [
    "# Yelp API Package"
   ]
  },
  {
   "cell_type": "markdown",
   "id": "498534bf",
   "metadata": {},
   "source": [
    "# Import necessary libraries"
   ]
  },
  {
   "cell_type": "code",
   "execution_count": 11,
   "id": "cc8440b9",
   "metadata": {},
   "outputs": [],
   "source": [
    "# imports\n",
    "import pandas as pd\n",
    "import json\n",
    "from yelpapi import YelpAPI"
   ]
  },
  {
   "cell_type": "code",
   "execution_count": 4,
   "id": "ec76df9c",
   "metadata": {},
   "outputs": [
    {
     "data": {
      "text/plain": [
       "dict_keys(['Client-ID', 'API Key'])"
      ]
     },
     "execution_count": 4,
     "metadata": {},
     "output_type": "execute_result"
    }
   ],
   "source": [
    "# instantiate\n",
    "with open('/Users/shell/.secret/yelp_api.json') as f:\n",
    "    login = json.load(f)\n",
    "login.keys()"
   ]
  },
  {
   "cell_type": "code",
   "execution_count": 5,
   "id": "ff96f57a",
   "metadata": {},
   "outputs": [
    {
     "data": {
      "text/plain": [
       "<yelpapi.yelpapi.YelpAPI at 0x27ba5bec580>"
      ]
     },
     "execution_count": 5,
     "metadata": {},
     "output_type": "execute_result"
    }
   ],
   "source": [
    "# create an instance with my key\n",
    "yelp_api = YelpAPI(login['API Key'], timeout_s = 5.0)\n",
    "yelp_api"
   ]
  },
  {
   "cell_type": "markdown",
   "id": "26a1050f",
   "metadata": {},
   "source": [
    "* To use the \"businesses search\" endpoint we will use the yelp_api.search_query method.\n",
    "    * If we inspect the docstring for the function (either run the help function on it or place your cursor inside the parenthesis for it and hit Shift+Tab), we see that it doesn't tell us very much."
   ]
  },
  {
   "cell_type": "code",
   "execution_count": 6,
   "id": "06241d61",
   "metadata": {},
   "outputs": [
    {
     "name": "stdout",
     "output_type": "stream",
     "text": [
      "Help on method search_query in module yelpapi.yelpapi:\n",
      "\n",
      "search_query(**kwargs) method of yelpapi.yelpapi.YelpAPI instance\n",
      "    Query the Yelp Search API.\n",
      "    \n",
      "    documentation: https://www.yelp.com/developers/documentation/v3/business_search\n",
      "    \n",
      "    required parameters:\n",
      "        * one of either:\n",
      "            * location - text specifying a location to search for\n",
      "            * latitude and longitude\n",
      "\n"
     ]
    }
   ],
   "source": [
    "help(yelp_api.search_query)"
   ]
  },
  {
   "cell_type": "markdown",
   "id": "cf43a45d",
   "metadata": {},
   "source": [
    "* The only arguments/parameters that the docstring mentions are location or latitude & longitude.\n",
    "* Notice that the link to the official API documentation is linked instead.\n",
    "    * This is because this documentation only shows what the required parameters are, but it will accept ANY of the parameters that are accepted by the business_search endpoint."
   ]
  },
  {
   "cell_type": "code",
   "execution_count": 7,
   "id": "ccbaec37",
   "metadata": {},
   "outputs": [
    {
     "name": "stdout",
     "output_type": "stream",
     "text": [
      "<class 'dict'>\n"
     ]
    },
    {
     "data": {
      "text/plain": [
       "dict_keys(['businesses', 'total', 'region'])"
      ]
     },
     "execution_count": 7,
     "metadata": {},
     "output_type": "execute_result"
    }
   ],
   "source": [
    "# use our yelp_api variable's search_query method to perform our API call\n",
    "search_results = yelp_api.search_query(location = 'NY, NY',\n",
    "                                                  term = 'Pizza')\n",
    "print(type(search_results))\n",
    "search_results.keys()"
   ]
  },
  {
   "cell_type": "markdown",
   "id": "aa91a72a",
   "metadata": {},
   "source": [
    "* The package returns the results in the JSON format we have been exploring. Note that the exact results may vary as the Yelp site is constantly changing."
   ]
  },
  {
   "cell_type": "code",
   "execution_count": 8,
   "id": "8c325411",
   "metadata": {},
   "outputs": [
    {
     "data": {
      "text/plain": [
       "12300"
      ]
     },
     "execution_count": 8,
     "metadata": {},
     "output_type": "execute_result"
    }
   ],
   "source": [
    "# search results\n",
    "search_results['total']"
   ]
  },
  {
   "cell_type": "code",
   "execution_count": 12,
   "id": "b134bd8d",
   "metadata": {},
   "outputs": [
    {
     "data": {
      "text/html": [
       "<div>\n",
       "<style scoped>\n",
       "    .dataframe tbody tr th:only-of-type {\n",
       "        vertical-align: middle;\n",
       "    }\n",
       "\n",
       "    .dataframe tbody tr th {\n",
       "        vertical-align: top;\n",
       "    }\n",
       "\n",
       "    .dataframe thead th {\n",
       "        text-align: right;\n",
       "    }\n",
       "</style>\n",
       "<table border=\"1\" class=\"dataframe\">\n",
       "  <thead>\n",
       "    <tr style=\"text-align: right;\">\n",
       "      <th></th>\n",
       "      <th>id</th>\n",
       "      <th>alias</th>\n",
       "      <th>name</th>\n",
       "      <th>image_url</th>\n",
       "      <th>is_closed</th>\n",
       "      <th>url</th>\n",
       "      <th>review_count</th>\n",
       "      <th>categories</th>\n",
       "      <th>rating</th>\n",
       "      <th>coordinates</th>\n",
       "      <th>transactions</th>\n",
       "      <th>price</th>\n",
       "      <th>location</th>\n",
       "      <th>phone</th>\n",
       "      <th>display_phone</th>\n",
       "      <th>distance</th>\n",
       "    </tr>\n",
       "  </thead>\n",
       "  <tbody>\n",
       "    <tr>\n",
       "      <th>0</th>\n",
       "      <td>zj8Lq1T8KIC5zwFief15jg</td>\n",
       "      <td>prince-street-pizza-new-york-2</td>\n",
       "      <td>Prince Street Pizza</td>\n",
       "      <td>https://s3-media2.fl.yelpcdn.com/bphoto/AaCoCI...</td>\n",
       "      <td>False</td>\n",
       "      <td>https://www.yelp.com/biz/prince-street-pizza-n...</td>\n",
       "      <td>4597</td>\n",
       "      <td>[{'alias': 'pizza', 'title': 'Pizza'}, {'alias...</td>\n",
       "      <td>4.5</td>\n",
       "      <td>{'latitude': 40.72308755605564, 'longitude': -...</td>\n",
       "      <td>[delivery, pickup]</td>\n",
       "      <td>$</td>\n",
       "      <td>{'address1': '27 Prince St', 'address2': None,...</td>\n",
       "      <td>+12129664100</td>\n",
       "      <td>(212) 966-4100</td>\n",
       "      <td>1961.877142</td>\n",
       "    </tr>\n",
       "    <tr>\n",
       "      <th>1</th>\n",
       "      <td>ysqgdbSrezXgVwER2kQWKA</td>\n",
       "      <td>julianas-brooklyn-3</td>\n",
       "      <td>Juliana's</td>\n",
       "      <td>https://s3-media2.fl.yelpcdn.com/bphoto/HB5-Bo...</td>\n",
       "      <td>False</td>\n",
       "      <td>https://www.yelp.com/biz/julianas-brooklyn-3?a...</td>\n",
       "      <td>2559</td>\n",
       "      <td>[{'alias': 'pizza', 'title': 'Pizza'}]</td>\n",
       "      <td>4.5</td>\n",
       "      <td>{'latitude': 40.70274718768062, 'longitude': -...</td>\n",
       "      <td>[delivery]</td>\n",
       "      <td>$$</td>\n",
       "      <td>{'address1': '19 Old Fulton St', 'address2': '...</td>\n",
       "      <td>+17185966700</td>\n",
       "      <td>(718) 596-6700</td>\n",
       "      <td>308.569844</td>\n",
       "    </tr>\n",
       "  </tbody>\n",
       "</table>\n",
       "</div>"
      ],
      "text/plain": [
       "                       id                           alias  \\\n",
       "0  zj8Lq1T8KIC5zwFief15jg  prince-street-pizza-new-york-2   \n",
       "1  ysqgdbSrezXgVwER2kQWKA             julianas-brooklyn-3   \n",
       "\n",
       "                  name                                          image_url  \\\n",
       "0  Prince Street Pizza  https://s3-media2.fl.yelpcdn.com/bphoto/AaCoCI...   \n",
       "1            Juliana's  https://s3-media2.fl.yelpcdn.com/bphoto/HB5-Bo...   \n",
       "\n",
       "   is_closed                                                url  review_count  \\\n",
       "0      False  https://www.yelp.com/biz/prince-street-pizza-n...          4597   \n",
       "1      False  https://www.yelp.com/biz/julianas-brooklyn-3?a...          2559   \n",
       "\n",
       "                                          categories  rating  \\\n",
       "0  [{'alias': 'pizza', 'title': 'Pizza'}, {'alias...     4.5   \n",
       "1             [{'alias': 'pizza', 'title': 'Pizza'}]     4.5   \n",
       "\n",
       "                                         coordinates        transactions  \\\n",
       "0  {'latitude': 40.72308755605564, 'longitude': -...  [delivery, pickup]   \n",
       "1  {'latitude': 40.70274718768062, 'longitude': -...          [delivery]   \n",
       "\n",
       "  price                                           location         phone  \\\n",
       "0     $  {'address1': '27 Prince St', 'address2': None,...  +12129664100   \n",
       "1    $$  {'address1': '19 Old Fulton St', 'address2': '...  +17185966700   \n",
       "\n",
       "    display_phone     distance  \n",
       "0  (212) 966-4100  1961.877142  \n",
       "1  (718) 596-6700   308.569844  "
      ]
     },
     "execution_count": 12,
     "metadata": {},
     "output_type": "execute_result"
    }
   ],
   "source": [
    "# load data\n",
    "biz = pd.DataFrame(search_results['businesses'])\n",
    "biz.head(2)"
   ]
  },
  {
   "cell_type": "markdown",
   "id": "ce745524",
   "metadata": {},
   "source": [
    "# Pagination and \"offset\"\n",
    "* Pagination can be understood through this brief demonstration:\n",
    "\n",
    "* Total Results vs Businesses\n",
    "\n",
    "    * If we check the total number of results, we can see that we had 12,000 businesses that met our search criteria."
   ]
  },
  {
   "cell_type": "code",
   "execution_count": 13,
   "id": "f3a01194",
   "metadata": {},
   "outputs": [
    {
     "data": {
      "text/plain": [
       "12300"
      ]
     },
     "execution_count": 13,
     "metadata": {},
     "output_type": "execute_result"
    }
   ],
   "source": [
    "# total number of matching businesses\n",
    "search_results['total']"
   ]
  },
  {
   "cell_type": "code",
   "execution_count": 14,
   "id": "ea28b498",
   "metadata": {},
   "outputs": [
    {
     "data": {
      "text/plain": [
       "20"
      ]
     },
     "execution_count": 14,
     "metadata": {},
     "output_type": "execute_result"
    }
   ],
   "source": [
    "# how many businesses in our results?\n",
    "len(search_results['businesses'])"
   ]
  },
  {
   "cell_type": "markdown",
   "id": "17df0d1a",
   "metadata": {},
   "source": [
    "* We have 12000 results, but the length is only 2.? What's going on?\n",
    "\n",
    "* If you think about the results of a google search, we usually have MANY more results that Google will display at one time. When we scroll down to the bottom of the results, we can see that Google has divided the results into several PAGES of results instead of one extremely long page.\n",
    "\n",
    "* This is what Yelp Fusion is doing as well! The general term for this is \"Pagination\".\n",
    "\n",
    "* The Yelp API will only return a \"page\" of 20 results at a time.\n",
    "\n",
    "    * If we want to get the next page of results, we will perform another API call, but we will add an additional argument called \"offset\".\n",
    "        * The offset is what # result to use as the FIRST result for the page.\n",
    "        * If we had 20 businesses in our first result, we would want to add an offset of 20.\n"
   ]
  },
  {
   "cell_type": "code",
   "execution_count": 17,
   "id": "4d465f3f",
   "metadata": {},
   "outputs": [],
   "source": [
    "# add offset to out original API call \n",
    "search_results = yelp_api.search_query(location = 'NY, NY',\n",
    "                                       term = 'Pizza',\n",
    "                                       offset = 20)"
   ]
  },
  {
   "cell_type": "markdown",
   "id": "1fb6c175",
   "metadata": {},
   "source": [
    "* Now check the results."
   ]
  },
  {
   "cell_type": "code",
   "execution_count": 18,
   "id": "addc6f45",
   "metadata": {},
   "outputs": [
    {
     "data": {
      "text/html": [
       "<div>\n",
       "<style scoped>\n",
       "    .dataframe tbody tr th:only-of-type {\n",
       "        vertical-align: middle;\n",
       "    }\n",
       "\n",
       "    .dataframe tbody tr th {\n",
       "        vertical-align: top;\n",
       "    }\n",
       "\n",
       "    .dataframe thead th {\n",
       "        text-align: right;\n",
       "    }\n",
       "</style>\n",
       "<table border=\"1\" class=\"dataframe\">\n",
       "  <thead>\n",
       "    <tr style=\"text-align: right;\">\n",
       "      <th></th>\n",
       "      <th>id</th>\n",
       "      <th>alias</th>\n",
       "      <th>name</th>\n",
       "      <th>image_url</th>\n",
       "      <th>is_closed</th>\n",
       "      <th>url</th>\n",
       "      <th>review_count</th>\n",
       "      <th>categories</th>\n",
       "      <th>rating</th>\n",
       "      <th>coordinates</th>\n",
       "      <th>transactions</th>\n",
       "      <th>location</th>\n",
       "      <th>phone</th>\n",
       "      <th>display_phone</th>\n",
       "      <th>distance</th>\n",
       "      <th>price</th>\n",
       "    </tr>\n",
       "  </thead>\n",
       "  <tbody>\n",
       "    <tr>\n",
       "      <th>0</th>\n",
       "      <td>Ii_CFGFaTUpfGH1xOUZXVQ</td>\n",
       "      <td>rosie-pizza-bar-new-york</td>\n",
       "      <td>Rosie Pizza Bar</td>\n",
       "      <td>https://s3-media4.fl.yelpcdn.com/bphoto/4b8xU9...</td>\n",
       "      <td>False</td>\n",
       "      <td>https://www.yelp.com/biz/rosie-pizza-bar-new-y...</td>\n",
       "      <td>37</td>\n",
       "      <td>[{'alias': 'pizza', 'title': 'Pizza'}]</td>\n",
       "      <td>4.0</td>\n",
       "      <td>{'latitude': 40.6998, 'longitude': -73.92842}</td>\n",
       "      <td>[pickup, delivery]</td>\n",
       "      <td>{'address1': '128 Central Ave', 'address2': ''...</td>\n",
       "      <td>+17184404369</td>\n",
       "      <td>(718) 440-4369</td>\n",
       "      <td>5588.922717</td>\n",
       "      <td>NaN</td>\n",
       "    </tr>\n",
       "    <tr>\n",
       "      <th>1</th>\n",
       "      <td>hGksyTiHBBdrhbiVjXzWVw</td>\n",
       "      <td>scarrs-pizza-new-york</td>\n",
       "      <td>Scarr's Pizza</td>\n",
       "      <td>https://s3-media3.fl.yelpcdn.com/bphoto/xonxGJ...</td>\n",
       "      <td>False</td>\n",
       "      <td>https://www.yelp.com/biz/scarrs-pizza-new-york...</td>\n",
       "      <td>638</td>\n",
       "      <td>[{'alias': 'pizza', 'title': 'Pizza'}]</td>\n",
       "      <td>4.0</td>\n",
       "      <td>{'latitude': 40.71534, 'longitude': -73.9914}</td>\n",
       "      <td>[pickup, delivery]</td>\n",
       "      <td>{'address1': '22 Orchard St', 'address2': '', ...</td>\n",
       "      <td>+12123343481</td>\n",
       "      <td>(212) 334-3481</td>\n",
       "      <td>1125.784330</td>\n",
       "      <td>$</td>\n",
       "    </tr>\n",
       "  </tbody>\n",
       "</table>\n",
       "</div>"
      ],
      "text/plain": [
       "                       id                     alias             name  \\\n",
       "0  Ii_CFGFaTUpfGH1xOUZXVQ  rosie-pizza-bar-new-york  Rosie Pizza Bar   \n",
       "1  hGksyTiHBBdrhbiVjXzWVw     scarrs-pizza-new-york    Scarr's Pizza   \n",
       "\n",
       "                                           image_url  is_closed  \\\n",
       "0  https://s3-media4.fl.yelpcdn.com/bphoto/4b8xU9...      False   \n",
       "1  https://s3-media3.fl.yelpcdn.com/bphoto/xonxGJ...      False   \n",
       "\n",
       "                                                 url  review_count  \\\n",
       "0  https://www.yelp.com/biz/rosie-pizza-bar-new-y...            37   \n",
       "1  https://www.yelp.com/biz/scarrs-pizza-new-york...           638   \n",
       "\n",
       "                               categories  rating  \\\n",
       "0  [{'alias': 'pizza', 'title': 'Pizza'}]     4.0   \n",
       "1  [{'alias': 'pizza', 'title': 'Pizza'}]     4.0   \n",
       "\n",
       "                                     coordinates        transactions  \\\n",
       "0  {'latitude': 40.6998, 'longitude': -73.92842}  [pickup, delivery]   \n",
       "1  {'latitude': 40.71534, 'longitude': -73.9914}  [pickup, delivery]   \n",
       "\n",
       "                                            location         phone  \\\n",
       "0  {'address1': '128 Central Ave', 'address2': ''...  +17184404369   \n",
       "1  {'address1': '22 Orchard St', 'address2': '', ...  +12123343481   \n",
       "\n",
       "    display_phone     distance price  \n",
       "0  (718) 440-4369  5588.922717   NaN  \n",
       "1  (212) 334-3481  1125.784330     $  "
      ]
     },
     "execution_count": 18,
     "metadata": {},
     "output_type": "execute_result"
    }
   ],
   "source": [
    "biz20 = pd.DataFrame(search_results['businesses'])\n",
    "biz20.head(2)"
   ]
  },
  {
   "cell_type": "markdown",
   "id": "f4c48bba",
   "metadata": {},
   "source": [
    "* You should have different results than your original call when you make the offset call.\n",
    "\n",
    "* Now you can combine the results (so far) into one dataframe using pd.concat()"
   ]
  },
  {
   "cell_type": "code",
   "execution_count": 19,
   "id": "4d9b8b8b",
   "metadata": {},
   "outputs": [
    {
     "data": {
      "text/html": [
       "<div>\n",
       "<style scoped>\n",
       "    .dataframe tbody tr th:only-of-type {\n",
       "        vertical-align: middle;\n",
       "    }\n",
       "\n",
       "    .dataframe tbody tr th {\n",
       "        vertical-align: top;\n",
       "    }\n",
       "\n",
       "    .dataframe thead th {\n",
       "        text-align: right;\n",
       "    }\n",
       "</style>\n",
       "<table border=\"1\" class=\"dataframe\">\n",
       "  <thead>\n",
       "    <tr style=\"text-align: right;\">\n",
       "      <th></th>\n",
       "      <th>id</th>\n",
       "      <th>alias</th>\n",
       "      <th>name</th>\n",
       "      <th>image_url</th>\n",
       "      <th>is_closed</th>\n",
       "      <th>url</th>\n",
       "      <th>review_count</th>\n",
       "      <th>categories</th>\n",
       "      <th>rating</th>\n",
       "      <th>coordinates</th>\n",
       "      <th>transactions</th>\n",
       "      <th>price</th>\n",
       "      <th>location</th>\n",
       "      <th>phone</th>\n",
       "      <th>display_phone</th>\n",
       "      <th>distance</th>\n",
       "    </tr>\n",
       "  </thead>\n",
       "  <tbody>\n",
       "    <tr>\n",
       "      <th>0</th>\n",
       "      <td>zj8Lq1T8KIC5zwFief15jg</td>\n",
       "      <td>prince-street-pizza-new-york-2</td>\n",
       "      <td>Prince Street Pizza</td>\n",
       "      <td>https://s3-media2.fl.yelpcdn.com/bphoto/AaCoCI...</td>\n",
       "      <td>False</td>\n",
       "      <td>https://www.yelp.com/biz/prince-street-pizza-n...</td>\n",
       "      <td>4597</td>\n",
       "      <td>[{'alias': 'pizza', 'title': 'Pizza'}, {'alias...</td>\n",
       "      <td>4.5</td>\n",
       "      <td>{'latitude': 40.72308755605564, 'longitude': -...</td>\n",
       "      <td>[delivery, pickup]</td>\n",
       "      <td>$</td>\n",
       "      <td>{'address1': '27 Prince St', 'address2': None,...</td>\n",
       "      <td>+12129664100</td>\n",
       "      <td>(212) 966-4100</td>\n",
       "      <td>1961.877142</td>\n",
       "    </tr>\n",
       "    <tr>\n",
       "      <th>1</th>\n",
       "      <td>ysqgdbSrezXgVwER2kQWKA</td>\n",
       "      <td>julianas-brooklyn-3</td>\n",
       "      <td>Juliana's</td>\n",
       "      <td>https://s3-media2.fl.yelpcdn.com/bphoto/HB5-Bo...</td>\n",
       "      <td>False</td>\n",
       "      <td>https://www.yelp.com/biz/julianas-brooklyn-3?a...</td>\n",
       "      <td>2559</td>\n",
       "      <td>[{'alias': 'pizza', 'title': 'Pizza'}]</td>\n",
       "      <td>4.5</td>\n",
       "      <td>{'latitude': 40.70274718768062, 'longitude': -...</td>\n",
       "      <td>[delivery]</td>\n",
       "      <td>$$</td>\n",
       "      <td>{'address1': '19 Old Fulton St', 'address2': '...</td>\n",
       "      <td>+17185966700</td>\n",
       "      <td>(718) 596-6700</td>\n",
       "      <td>308.569844</td>\n",
       "    </tr>\n",
       "    <tr>\n",
       "      <th>2</th>\n",
       "      <td>v1DHGRNCH9247WLYoaoA9A</td>\n",
       "      <td>l-industrie-pizzeria-brooklyn</td>\n",
       "      <td>L'industrie Pizzeria</td>\n",
       "      <td>https://s3-media2.fl.yelpcdn.com/bphoto/fisdCw...</td>\n",
       "      <td>False</td>\n",
       "      <td>https://www.yelp.com/biz/l-industrie-pizzeria-...</td>\n",
       "      <td>811</td>\n",
       "      <td>[{'alias': 'pizza', 'title': 'Pizza'}]</td>\n",
       "      <td>4.5</td>\n",
       "      <td>{'latitude': 40.71162, 'longitude': -73.95783}</td>\n",
       "      <td>[delivery]</td>\n",
       "      <td>$</td>\n",
       "      <td>{'address1': '254 S 2nd St', 'address2': '', '...</td>\n",
       "      <td>+17185990002</td>\n",
       "      <td>(718) 599-0002</td>\n",
       "      <td>3145.016041</td>\n",
       "    </tr>\n",
       "  </tbody>\n",
       "</table>\n",
       "</div>"
      ],
      "text/plain": [
       "                       id                           alias  \\\n",
       "0  zj8Lq1T8KIC5zwFief15jg  prince-street-pizza-new-york-2   \n",
       "1  ysqgdbSrezXgVwER2kQWKA             julianas-brooklyn-3   \n",
       "2  v1DHGRNCH9247WLYoaoA9A   l-industrie-pizzeria-brooklyn   \n",
       "\n",
       "                   name                                          image_url  \\\n",
       "0   Prince Street Pizza  https://s3-media2.fl.yelpcdn.com/bphoto/AaCoCI...   \n",
       "1             Juliana's  https://s3-media2.fl.yelpcdn.com/bphoto/HB5-Bo...   \n",
       "2  L'industrie Pizzeria  https://s3-media2.fl.yelpcdn.com/bphoto/fisdCw...   \n",
       "\n",
       "   is_closed                                                url  review_count  \\\n",
       "0      False  https://www.yelp.com/biz/prince-street-pizza-n...          4597   \n",
       "1      False  https://www.yelp.com/biz/julianas-brooklyn-3?a...          2559   \n",
       "2      False  https://www.yelp.com/biz/l-industrie-pizzeria-...           811   \n",
       "\n",
       "                                          categories  rating  \\\n",
       "0  [{'alias': 'pizza', 'title': 'Pizza'}, {'alias...     4.5   \n",
       "1             [{'alias': 'pizza', 'title': 'Pizza'}]     4.5   \n",
       "2             [{'alias': 'pizza', 'title': 'Pizza'}]     4.5   \n",
       "\n",
       "                                         coordinates        transactions  \\\n",
       "0  {'latitude': 40.72308755605564, 'longitude': -...  [delivery, pickup]   \n",
       "1  {'latitude': 40.70274718768062, 'longitude': -...          [delivery]   \n",
       "2     {'latitude': 40.71162, 'longitude': -73.95783}          [delivery]   \n",
       "\n",
       "  price                                           location         phone  \\\n",
       "0     $  {'address1': '27 Prince St', 'address2': None,...  +12129664100   \n",
       "1    $$  {'address1': '19 Old Fulton St', 'address2': '...  +17185966700   \n",
       "2     $  {'address1': '254 S 2nd St', 'address2': '', '...  +17185990002   \n",
       "\n",
       "    display_phone     distance  \n",
       "0  (212) 966-4100  1961.877142  \n",
       "1  (718) 596-6700   308.569844  \n",
       "2  (718) 599-0002  3145.016041  "
      ]
     },
     "metadata": {},
     "output_type": "display_data"
    },
    {
     "data": {
      "text/html": [
       "<div>\n",
       "<style scoped>\n",
       "    .dataframe tbody tr th:only-of-type {\n",
       "        vertical-align: middle;\n",
       "    }\n",
       "\n",
       "    .dataframe tbody tr th {\n",
       "        vertical-align: top;\n",
       "    }\n",
       "\n",
       "    .dataframe thead th {\n",
       "        text-align: right;\n",
       "    }\n",
       "</style>\n",
       "<table border=\"1\" class=\"dataframe\">\n",
       "  <thead>\n",
       "    <tr style=\"text-align: right;\">\n",
       "      <th></th>\n",
       "      <th>id</th>\n",
       "      <th>alias</th>\n",
       "      <th>name</th>\n",
       "      <th>image_url</th>\n",
       "      <th>is_closed</th>\n",
       "      <th>url</th>\n",
       "      <th>review_count</th>\n",
       "      <th>categories</th>\n",
       "      <th>rating</th>\n",
       "      <th>coordinates</th>\n",
       "      <th>transactions</th>\n",
       "      <th>price</th>\n",
       "      <th>location</th>\n",
       "      <th>phone</th>\n",
       "      <th>display_phone</th>\n",
       "      <th>distance</th>\n",
       "    </tr>\n",
       "  </thead>\n",
       "  <tbody>\n",
       "    <tr>\n",
       "      <th>37</th>\n",
       "      <td>atbANdSznV29GI066I2Ijw</td>\n",
       "      <td>champion-pizza-new-york-6</td>\n",
       "      <td>Champion Pizza</td>\n",
       "      <td>https://s3-media2.fl.yelpcdn.com/bphoto/SBZL50...</td>\n",
       "      <td>False</td>\n",
       "      <td>https://www.yelp.com/biz/champion-pizza-new-yo...</td>\n",
       "      <td>403</td>\n",
       "      <td>[{'alias': 'pizza', 'title': 'Pizza'}]</td>\n",
       "      <td>4.5</td>\n",
       "      <td>{'latitude': 40.7215270996094, 'longitude': -7...</td>\n",
       "      <td>[pickup, delivery]</td>\n",
       "      <td>$</td>\n",
       "      <td>{'address1': '17 Cleveland Pl', 'address2': No...</td>\n",
       "      <td>+12122263777</td>\n",
       "      <td>(212) 226-3777</td>\n",
       "      <td>1801.476444</td>\n",
       "    </tr>\n",
       "    <tr>\n",
       "      <th>38</th>\n",
       "      <td>xxgcU_oFIox_pAmroo9WwA</td>\n",
       "      <td>front-street-pizza-brooklyn</td>\n",
       "      <td>Front Street Pizza</td>\n",
       "      <td>https://s3-media1.fl.yelpcdn.com/bphoto/ybrfmg...</td>\n",
       "      <td>False</td>\n",
       "      <td>https://www.yelp.com/biz/front-street-pizza-br...</td>\n",
       "      <td>436</td>\n",
       "      <td>[{'alias': 'pizza', 'title': 'Pizza'}, {'alias...</td>\n",
       "      <td>4.0</td>\n",
       "      <td>{'latitude': 40.70244, 'longitude': -73.98943}</td>\n",
       "      <td>[pickup, delivery]</td>\n",
       "      <td>$</td>\n",
       "      <td>{'address1': '80 Front St', 'address2': '', 'a...</td>\n",
       "      <td>+17188753700</td>\n",
       "      <td>(718) 875-3700</td>\n",
       "      <td>550.439226</td>\n",
       "    </tr>\n",
       "    <tr>\n",
       "      <th>39</th>\n",
       "      <td>i_rg-OLXQbpRUN7O3MeCeA</td>\n",
       "      <td>piz-zetta-brooklyn-2</td>\n",
       "      <td>Piz-zetta</td>\n",
       "      <td>https://s3-media1.fl.yelpcdn.com/bphoto/VmaEn7...</td>\n",
       "      <td>False</td>\n",
       "      <td>https://www.yelp.com/biz/piz-zetta-brooklyn-2?...</td>\n",
       "      <td>322</td>\n",
       "      <td>[{'alias': 'italian', 'title': 'Italian'}, {'a...</td>\n",
       "      <td>4.5</td>\n",
       "      <td>{'latitude': 40.69116658201196, 'longitude': -...</td>\n",
       "      <td>[pickup, delivery]</td>\n",
       "      <td>$</td>\n",
       "      <td>{'address1': '90 Livingston St', 'address2': '...</td>\n",
       "      <td>+17184227878</td>\n",
       "      <td>(718) 422-7878</td>\n",
       "      <td>1616.959411</td>\n",
       "    </tr>\n",
       "  </tbody>\n",
       "</table>\n",
       "</div>"
      ],
      "text/plain": [
       "                        id                        alias                name  \\\n",
       "37  atbANdSznV29GI066I2Ijw    champion-pizza-new-york-6      Champion Pizza   \n",
       "38  xxgcU_oFIox_pAmroo9WwA  front-street-pizza-brooklyn  Front Street Pizza   \n",
       "39  i_rg-OLXQbpRUN7O3MeCeA         piz-zetta-brooklyn-2           Piz-zetta   \n",
       "\n",
       "                                            image_url  is_closed  \\\n",
       "37  https://s3-media2.fl.yelpcdn.com/bphoto/SBZL50...      False   \n",
       "38  https://s3-media1.fl.yelpcdn.com/bphoto/ybrfmg...      False   \n",
       "39  https://s3-media1.fl.yelpcdn.com/bphoto/VmaEn7...      False   \n",
       "\n",
       "                                                  url  review_count  \\\n",
       "37  https://www.yelp.com/biz/champion-pizza-new-yo...           403   \n",
       "38  https://www.yelp.com/biz/front-street-pizza-br...           436   \n",
       "39  https://www.yelp.com/biz/piz-zetta-brooklyn-2?...           322   \n",
       "\n",
       "                                           categories  rating  \\\n",
       "37             [{'alias': 'pizza', 'title': 'Pizza'}]     4.5   \n",
       "38  [{'alias': 'pizza', 'title': 'Pizza'}, {'alias...     4.0   \n",
       "39  [{'alias': 'italian', 'title': 'Italian'}, {'a...     4.5   \n",
       "\n",
       "                                          coordinates        transactions  \\\n",
       "37  {'latitude': 40.7215270996094, 'longitude': -7...  [pickup, delivery]   \n",
       "38     {'latitude': 40.70244, 'longitude': -73.98943}  [pickup, delivery]   \n",
       "39  {'latitude': 40.69116658201196, 'longitude': -...  [pickup, delivery]   \n",
       "\n",
       "   price                                           location         phone  \\\n",
       "37     $  {'address1': '17 Cleveland Pl', 'address2': No...  +12122263777   \n",
       "38     $  {'address1': '80 Front St', 'address2': '', 'a...  +17188753700   \n",
       "39     $  {'address1': '90 Livingston St', 'address2': '...  +17184227878   \n",
       "\n",
       "     display_phone     distance  \n",
       "37  (212) 226-3777  1801.476444  \n",
       "38  (718) 875-3700   550.439226  \n",
       "39  (718) 422-7878  1616.959411  "
      ]
     },
     "metadata": {},
     "output_type": "display_data"
    }
   ],
   "source": [
    "# concatenate the previous results and the new results\n",
    "businesses = pd.concat([biz, biz20], ignore_index = True)\n",
    "display(businesses.head(3), businesses.tail(3))"
   ]
  },
  {
   "cell_type": "markdown",
   "id": "b782d5da",
   "metadata": {},
   "source": [
    "# Summary\n",
    "* Making API calls requires our API Key and knowledge of the endpoints we want to use.\n",
    "* Reading the documentation is particularly important for using APIs.\n",
    "* The output of your API call may be broken into bite-sized chunks known as pagination. You will need to use offset to access all of the relevant information.\n",
    "* The results can then be concatenated into a single data frame."
   ]
  },
  {
   "cell_type": "code",
   "execution_count": null,
   "id": "37e51dbc",
   "metadata": {},
   "outputs": [],
   "source": []
  }
 ],
 "metadata": {
  "kernelspec": {
   "display_name": "Python (dojo-env)",
   "language": "python",
   "name": "dojo-env"
  },
  "language_info": {
   "codemirror_mode": {
    "name": "ipython",
    "version": 3
   },
   "file_extension": ".py",
   "mimetype": "text/x-python",
   "name": "python",
   "nbconvert_exporter": "python",
   "pygments_lexer": "ipython3",
   "version": "3.8.13"
  },
  "toc": {
   "base_numbering": 1,
   "nav_menu": {},
   "number_sections": false,
   "sideBar": true,
   "skip_h1_title": false,
   "title_cell": "Table of Contents",
   "title_sidebar": "Contents",
   "toc_cell": false,
   "toc_position": {},
   "toc_section_display": true,
   "toc_window_display": true
  }
 },
 "nbformat": 4,
 "nbformat_minor": 5
}
